{
 "cells": [
  {
   "cell_type": "markdown",
   "id": "fbb3c7ed",
   "metadata": {},
   "source": [
    "# Introduction to Structured Outputs\n",
    "\n",
    "https://cookbook.openai.com/examples/structured_outputs_intro\n"
   ]
  },
  {
   "cell_type": "code",
   "execution_count": 1,
   "id": "ac9424f9",
   "metadata": {},
   "outputs": [
    {
     "name": "stdout",
     "output_type": "stream",
     "text": [
      "Note: you may need to restart the kernel to use updated packages.\n"
     ]
    }
   ],
   "source": [
    "%pip install openai dotenv smolagents -U -q"
   ]
  },
  {
   "cell_type": "code",
   "execution_count": null,
   "id": "c07b5723",
   "metadata": {},
   "outputs": [],
   "source": [
    "import os\n",
    "\n",
    "import dotenv\n",
    "from openai import OpenAI\n",
    "\n",
    "dotenv_path = os.path.join('.env')\n",
    "dotenv.load_dotenv(dotenv_path)\n",
    "\n",
    "OPENAI_API_KEY = os.getenv(\"OPENAI_API_KEY\")\n",
    "OPENAI_BASE_URL = os.getenv(\"OPENAI_BASE_URL\")\n",
    "MODEL = 'gpt-4o-mini'\n",
    "\n",
    "client = OpenAI(api_key=OPENAI_API_KEY, base_url=OPENAI_BASE_URL)"
   ]
  },
  {
   "cell_type": "markdown",
   "id": "4ed59363",
   "metadata": {},
   "source": [
    "## Example 1: Math Tutor\n"
   ]
  },
  {
   "cell_type": "code",
   "execution_count": 5,
   "id": "462fed24",
   "metadata": {},
   "outputs": [],
   "source": [
    "from textwrap import dedent\n",
    "\n",
    "math_tutor_prompt = \"\"\"You are tutor and an expert in solving mathematical problems.\n",
    "You will be given a math problem. Solve the problem step-by-step with reasoning. For each step provide an explanation and output\"\"\"\n",
    "\n",
    "\n",
    "def get_math_solution(question: str):\n",
    "\n",
    "    response_format = {\"type\": \"json_schema\",\n",
    "                       \"json_schema\": {\n",
    "                           \"name\": \"math_reasoning\",\n",
    "                           \"schema\": {\n",
    "                               \"type\": \"object\",\n",
    "                               \"properties\": {\n",
    "                                   \"steps\": {\n",
    "                                       \"type\": \"array\",\n",
    "                                       \"items\": {\n",
    "                                           \"type\": \"object\",\n",
    "                                           \"properties\": {\n",
    "                                               \"explanation\": {\n",
    "                                                   \"type\": \"string\"\n",
    "                                               },\n",
    "                                               \"output\": {\n",
    "                                                   \"type\": \"string\"\n",
    "                                               }\n",
    "                                           },\n",
    "                                           \"required\": [\"explanation\", \"output\"],\n",
    "                                           \"additionalProperties\": False\n",
    "                                       }\n",
    "                                   },\n",
    "                                   \"final_output\": {\n",
    "                                       \"type\": \"string\"\n",
    "                                   }\n",
    "                               },\n",
    "                               \"additionalProperties\": False,\n",
    "                               \"required\": [\"steps\", \"final_output\"]\n",
    "                           },\n",
    "                           \"strict\": True\n",
    "                       }}\n",
    "\n",
    "    response = client.chat.completions.create(messages=[{\"role\": \"system\",\n",
    "                                                         \"content\": dedent(math_tutor_prompt)},\n",
    "                                                        {\"role\": \"user\",\n",
    "                                                         \"content\": question}],\n",
    "                                              model=MODEL, response_format=response_format)\n",
    "\n",
    "    return response.choices[0].message.content"
   ]
  },
  {
   "cell_type": "code",
   "execution_count": 6,
   "id": "958a7c05",
   "metadata": {},
   "outputs": [
    {
     "name": "stdout",
     "output_type": "stream",
     "text": [
      "{\"steps\":[{\"explanation\":\"To solve for x, we want to isolate the variable x on one side of the equation. First, we will eliminate the constant on the left side of the equation by subtracting 7 from both sides.\",\"output\":\"8x + 7 - 7 = -23 - 7\"},{\"explanation\":\"Simplifying both sides, we have: 8x = -30.\",\"output\":\"8x = -30\"},{\"explanation\":\"Next, we need to isolate x by dividing both sides of the equation by 8.\",\"output\":\"8x / 8 = -30 / 8\"},{\"explanation\":\"Simplifying the equation gives us x = -30/8, which can be simplified further. We simplify -30/8 by dividing both the numerator and the denominator by 2.\",\"output\":\"x = -15/4 or x = -3.75\"}],\"final_output\":\"x = -3.75\"}\n"
     ]
    }
   ],
   "source": [
    "# Testing with an example question\n",
    "question = \"how can I solve 8x + 7 = -23\"\n",
    "\n",
    "result = get_math_solution(question)\n",
    "print(result)"
   ]
  },
  {
   "cell_type": "code",
   "execution_count": 9,
   "id": "bb84d3ae",
   "metadata": {},
   "outputs": [],
   "source": [
    "import json\n",
    "from IPython.display import Math, display\n",
    "\n",
    "\n",
    "def print_math_response(response):\n",
    "    response = json.loads(response)\n",
    "    steps = response[\"steps\"]\n",
    "    final_output = response[\"final_output\"]\n",
    "\n",
    "    for i in range(len(steps)):\n",
    "        print(f\"Steps: {i + 1}: {steps[i]['explanation']}\\n\")\n",
    "        display(steps[i][\"output\"])\n",
    "\n",
    "    print(f\"Final answer:\\n\\n\")\n",
    "    display(Math(final_output))"
   ]
  },
  {
   "cell_type": "code",
   "execution_count": 10,
   "id": "56e0ea72",
   "metadata": {},
   "outputs": [
    {
     "name": "stdout",
     "output_type": "stream",
     "text": [
      "Steps: 1: To solve for x, we want to isolate the variable x on one side of the equation. First, we will eliminate the constant on the left side of the equation by subtracting 7 from both sides.\n",
      "\n"
     ]
    },
    {
     "data": {
      "text/plain": [
       "'8x + 7 - 7 = -23 - 7'"
      ]
     },
     "metadata": {},
     "output_type": "display_data"
    },
    {
     "name": "stdout",
     "output_type": "stream",
     "text": [
      "Steps: 2: Simplifying both sides, we have: 8x = -30.\n",
      "\n"
     ]
    },
    {
     "data": {
      "text/plain": [
       "'8x = -30'"
      ]
     },
     "metadata": {},
     "output_type": "display_data"
    },
    {
     "name": "stdout",
     "output_type": "stream",
     "text": [
      "Steps: 3: Next, we need to isolate x by dividing both sides of the equation by 8.\n",
      "\n"
     ]
    },
    {
     "data": {
      "text/plain": [
       "'8x / 8 = -30 / 8'"
      ]
     },
     "metadata": {},
     "output_type": "display_data"
    },
    {
     "name": "stdout",
     "output_type": "stream",
     "text": [
      "Steps: 4: Simplifying the equation gives us x = -30/8, which can be simplified further. We simplify -30/8 by dividing both the numerator and the denominator by 2.\n",
      "\n"
     ]
    },
    {
     "data": {
      "text/plain": [
       "'x = -15/4 or x = -3.75'"
      ]
     },
     "metadata": {},
     "output_type": "display_data"
    },
    {
     "name": "stdout",
     "output_type": "stream",
     "text": [
      "Final answer:\n",
      "\n",
      "\n"
     ]
    },
    {
     "data": {
      "text/latex": [
       "$\\displaystyle x = -3.75$"
      ],
      "text/plain": [
       "<IPython.core.display.Math object>"
      ]
     },
     "metadata": {},
     "output_type": "display_data"
    }
   ],
   "source": [
    "print_math_response(result)"
   ]
  },
  {
   "cell_type": "markdown",
   "id": "2492b31d",
   "metadata": {},
   "source": [
    "# Using the SDK parse helper\n"
   ]
  },
  {
   "cell_type": "code",
   "execution_count": 11,
   "id": "db2badd8",
   "metadata": {},
   "outputs": [],
   "source": [
    "from pydantic import BaseModel\n",
    "\n",
    "\n",
    "class MathReasoning(BaseModel):\n",
    "\n",
    "    class Steps(BaseModel):\n",
    "        explanation: str\n",
    "        output: str\n",
    "\n",
    "    steps: list[Steps]\n",
    "    final_output: str\n",
    "\n",
    "\n",
    "def get_math_solution(question: str):\n",
    "\n",
    "    response = client.beta.chat.completions.parse(messages=[{\"role\": \"system\",\n",
    "                                                             \"content\": dedent(math_tutor_prompt)},\n",
    "                                                            {\"role\": \"user\",\n",
    "                                                             \"content\": question}],\n",
    "                                                  model=MODEL,\n",
    "                                                  response_format=MathReasoning)\n",
    "\n",
    "    return response.choices[0].message"
   ]
  },
  {
   "cell_type": "code",
   "execution_count": 12,
   "id": "2dd88636",
   "metadata": {},
   "outputs": [],
   "source": [
    "result = get_math_solution(question).parsed"
   ]
  },
  {
   "cell_type": "code",
   "execution_count": 14,
   "id": "9c5a6b62",
   "metadata": {},
   "outputs": [
    {
     "name": "stdout",
     "output_type": "stream",
     "text": [
      "steps=[Steps(explanation='We start with the equation 8x + 7 = -23. The goal is to isolate the variable x. To do this, we first need to eliminate the constant term on the left side of the equation.', output='8x + 7 = -23'), Steps(explanation=\"Subtract 7 from both sides of the equation to get rid of the '+ 7'. This gives us: 8x + 7 - 7 = -23 - 7.\", output='8x = -30'), Steps(explanation='Now we simplify the right side of the equation. We have 8x = -30. Next, we need to solve for x by dividing both sides of the equation by 8.', output='x = -30 / 8'), Steps(explanation='Now, we can simplify -30 / 8. Both the numerator and the denominator can be divided by 2, which gives us -15 / 4.', output='x = -15/4'), Steps(explanation='Expressing -15/4 as a decimal, we can also write it as -3.75 if desired. Therefore, the solution to the equation is x = -15/4 or x = -3.75.', output='x = -15/4 or x = -3.75')] final_output='x = -15/4 or x = -3.75'\n"
     ]
    }
   ],
   "source": [
    "print(result)"
   ]
  },
  {
   "cell_type": "code",
   "execution_count": 15,
   "id": "27397bec",
   "metadata": {},
   "outputs": [
    {
     "name": "stdout",
     "output_type": "stream",
     "text": [
      "You are tutor and an expert in solving mathematical problems.\n",
      "You will be given a math problem. Solve the problem step-by-step with reasoning. For each step provide an explanation and output\n"
     ]
    }
   ],
   "source": [
    "print(dedent(math_tutor_prompt))"
   ]
  },
  {
   "cell_type": "markdown",
   "id": "41c78be7",
   "metadata": {},
   "source": [
    "## Example 2: Entity extraction from user input\n"
   ]
  },
  {
   "cell_type": "code",
   "execution_count": 16,
   "id": "61db7100",
   "metadata": {},
   "outputs": [],
   "source": [
    "from enum import Enum\n",
    "import openai\n",
    "\n",
    "product_search_prompt = '''\n",
    "You are a clothes recommendation agent, specialized in finding the perfect match for a user.\n",
    "You will be provided with a user input, and additional context such as user gender, age group, and season.\n",
    "You are equipped with a tool to search clothes in a database that matches the user's profile and preferences.\n",
    "Based on the user input and context, determine the most likely value of parameters to use to search the database.\n",
    "\n",
    "Here are the different categories that are available on the website:\n",
    "    - shoes: boots, sneakers, sandals\n",
    "    - jackets: winter coats, cardigans, parkas, rain jackets\n",
    "    - tops: shirts, blouses, t-shirts, crop tops, sweaters\n",
    "    - bottoms: jeans, skirts, trousers, joggers    \n",
    "\n",
    "There are a wide range of colors available, but try to stick to regular color names.   \n",
    "'''\n",
    "\n",
    "\n",
    "class Category(str, Enum):\n",
    "    shoes = \"shoes\"\n",
    "    jackets = \"jackets\"\n",
    "    tops = \"tops\"\n",
    "    bottoms = \"bottoms\"\n",
    "\n",
    "\n",
    "class ProductSearchParameters(BaseModel):\n",
    "    category: Category\n",
    "    subcategory: str\n",
    "    color: str\n",
    "\n",
    "\n",
    "def get_response(user_input, context):\n",
    "    response = client.chat.completions.create(messages=[{\"role\": \"system\",\n",
    "                                                         \"content\": dedent(product_search_prompt)},\n",
    "                                                        {\"role\": \"user\",\n",
    "                                                         \"content\": f\"CONTEXT: {context}\\n\\nUSER INPUT: {user_input}\"}],\n",
    "                                              model=MODEL,\n",
    "                                              temperature=0,\n",
    "                                              tools=[openai.pydantic_function_tool(model=ProductSearchParameters,\n",
    "                                                                                   name=\"product_search\",\n",
    "                                                                                   description=\"Search for a match in product database\")])\n",
    "\n",
    "    return response.choices[0].message.tool_calls\n",
    "\n",
    "\n",
    "example_inputs = [\n",
    "    {\n",
    "        \"user_input\": \"I'm looking for a new coat. I'm always cold so please something warm! Ideally something that matches my eyes.\",\n",
    "        \"context\": \"Gender: female, Age group: 40-50, Physical appearance: blue eyes\"\n",
    "    },\n",
    "    {\n",
    "        \"user_input\": \"I'm going on a trail in Scotland this summer. It's goind to be rainy. Help me find something.\",\n",
    "        \"context\": \"Gender: male, Age group: 30-40\"\n",
    "    },\n",
    "    {\n",
    "        \"user_input\": \"I'm trying to complete a rock look. I'm missing shoes. Any suggestions?\",\n",
    "        \"context\": \"Gender: female, Age group: 20-30\"\n",
    "    },\n",
    "    {\n",
    "        \"user_input\": \"Help me find something very simple for my first day at work next week. Something casual and neutral.\",\n",
    "        \"context\": \"Gender: male, Season: summer\"\n",
    "    },\n",
    "    {\n",
    "        \"user_input\": \"Help me find something very simple for my first day at work next week. Something casual and neutral.\",\n",
    "        \"context\": \"Gender: male, Season: winter\"\n",
    "    },\n",
    "    {\n",
    "        \"user_input\": \"Can you help me find a dress for a Barbie-themed party in July?\",\n",
    "        \"context\": \"Gender: female, Age group: 20-30\"\n",
    "    }\n",
    "]"
   ]
  },
  {
   "cell_type": "code",
   "execution_count": 17,
   "id": "f7dc0780",
   "metadata": {},
   "outputs": [
    {
     "name": "stdout",
     "output_type": "stream",
     "text": [
      "[ChatCompletionMessageToolCall(id='call_yPzEFC2H61z09cFM8stbKPy6', function=Function(arguments='{\"category\": \"jackets\", \"subcategory\": \"winter coats\", \"color\": \"blue\"}', name='product_search'), type='function'), ChatCompletionMessageToolCall(id='call_Ukbl2W4B9rpKlO7cmUMcDIpd', function=Function(arguments='{\"category\": \"jackets\", \"subcategory\": \"parkas\", \"color\": \"blue\"}', name='product_search'), type='function')]\n",
      "[ChatCompletionMessageToolCall(id='call_shnFztIsdaLBQWveP5Yse8xR', function=Function(arguments='{\"category\": \"jackets\", \"subcategory\": \"rain jackets\", \"color\": \"blue\"}', name='product_search'), type='function'), ChatCompletionMessageToolCall(id='call_tjG4Zl6L03xerd0Y7NMQ94MI', function=Function(arguments='{\"category\": \"shoes\", \"subcategory\": \"boots\", \"color\": \"brown\"}', name='product_search'), type='function')]\n",
      "[ChatCompletionMessageToolCall(id='call_Jpo5cdeki0WhsHA7JUAR4xTd', function=Function(arguments='{\"category\":\"shoes\",\"subcategory\":\"boots\",\"color\":\"black\"}', name='product_search'), type='function')]\n",
      "[ChatCompletionMessageToolCall(id='call_HSq6lVQZUOP3KBJNOyGCDlL2', function=Function(arguments='{\"category\": \"tops\", \"subcategory\": \"t-shirts\", \"color\": \"white\"}', name='product_search'), type='function'), ChatCompletionMessageToolCall(id='call_5cDVsyG0GN2pCPotOflbZujQ', function=Function(arguments='{\"category\": \"bottoms\", \"subcategory\": \"jeans\", \"color\": \"blue\"}', name='product_search'), type='function'), ChatCompletionMessageToolCall(id='call_yCwPSFznoOw8Lxi71L3zAE2p', function=Function(arguments='{\"category\": \"shoes\", \"subcategory\": \"sneakers\", \"color\": \"gray\"}', name='product_search'), type='function')]\n",
      "[ChatCompletionMessageToolCall(id='call_2QxWMmxqi4TsrYxR2xQ201yE', function=Function(arguments='{\"category\": \"tops\", \"subcategory\": \"t-shirts\", \"color\": \"gray\"}', name='product_search'), type='function'), ChatCompletionMessageToolCall(id='call_7pXMFzwixXLeZZKBVvkzInKQ', function=Function(arguments='{\"category\": \"bottoms\", \"subcategory\": \"jeans\", \"color\": \"blue\"}', name='product_search'), type='function'), ChatCompletionMessageToolCall(id='call_gb29G4eBUKNpadjDdrDWMZA9', function=Function(arguments='{\"category\": \"shoes\", \"subcategory\": \"sneakers\", \"color\": \"white\"}', name='product_search'), type='function')]\n",
      "[ChatCompletionMessageToolCall(id='call_FW1a0h1GYQoe2OcRzfQp2Jsp', function=Function(arguments='{\"category\":\"tops\",\"subcategory\":\"dresses\",\"color\":\"pink\"}', name='product_search'), type='function')]\n"
     ]
    }
   ],
   "source": [
    "for example in example_inputs:\n",
    "    print(get_response(user_input=example[\"user_input\"], context=example[\"context\"]))"
   ]
  }
 ],
 "metadata": {
  "kernelspec": {
   "display_name": "applied-ai-z5YB00gm",
   "language": "python",
   "name": "python3"
  },
  "language_info": {
   "codemirror_mode": {
    "name": "ipython",
    "version": 3
   },
   "file_extension": ".py",
   "mimetype": "text/x-python",
   "name": "python",
   "nbconvert_exporter": "python",
   "pygments_lexer": "ipython3",
   "version": "3.13.2"
  }
 },
 "nbformat": 4,
 "nbformat_minor": 5
}
