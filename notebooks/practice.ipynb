{
 "cells": [
  {
   "cell_type": "code",
   "execution_count": 24,
   "id": "ed9e6b32",
   "metadata": {},
   "outputs": [
    {
     "name": "stdout",
     "output_type": "stream",
     "text": [
      "Note: you may need to restart the kernel to use updated packages.\n"
     ]
    }
   ],
   "source": [
    "%pip install openai tiktoken faiss-cpu pypdf2 -q"
   ]
  },
  {
   "cell_type": "code",
   "execution_count": null,
   "id": "d51d89e3",
   "metadata": {},
   "outputs": [],
   "source": [
    "import os\n",
    "import faiss\n",
    "import tiktoken\n",
    "from openai import OpenAI\n",
    "import numpy as np\n",
    "import dotenv\n",
    "import openai\n",
    "\n",
    "dotenv.load_dotenv()\n",
    "\n",
    "# Build a tokenizer\n",
    "tokenizer = tiktoken.get_encoding(\"cl100k_base\")\n",
    "\n",
    "\n",
    "def count_tokens(text: str) -> int:\n",
    "    return len(tokenizer.encode(text))\n",
    "\n",
    "\n",
    "# Chunk a document by tokens\n",
    "def chunk_text(text: str, max_tokens=300, overlap=50):\n",
    "    ids = tokenizer.encode(text=text)\n",
    "\n",
    "    for i in range(0, len(ids), max_tokens - overlap):\n",
    "        chunk_ids = ids[i:i + max_tokens]\n",
    "        yield tokenizer.decode(tokens=chunk_ids)"
   ]
  },
  {
   "cell_type": "code",
   "execution_count": 26,
   "id": "12ef43a3",
   "metadata": {},
   "outputs": [],
   "source": [
    "import PyPDF2\n",
    "\n",
    "\n",
    "def extract_text_from_pdf(pdf_file_path: str):\n",
    "    pdf_file_obj = open(pdf_file_path, 'rb')\n",
    "    pdf_reader = PyPDF2.PdfReader(pdf_file_obj)\n",
    "\n",
    "    num_pages = len(pdf_reader.pages)\n",
    "    text = \"\"\n",
    "\n",
    "    for i in range(num_pages):\n",
    "        page_obj = pdf_reader.pages[i]\n",
    "        text += f\"<Page-{i}>\\n{page_obj.extract_text()}</Page-{i}>\\n\\n\"\n",
    "\n",
    "    return text\n",
    "\n",
    "\n",
    "# Example doc --> knowledge base\n",
    "text = extract_text_from_pdf('./../data/raw/Vaibhav Sethia Senior Machine Learning Engineer.pdf')"
   ]
  },
  {
   "cell_type": "code",
   "execution_count": 34,
   "id": "999a54dc",
   "metadata": {},
   "outputs": [],
   "source": [
    "chunks = chunk_text(text)"
   ]
  },
  {
   "cell_type": "code",
   "execution_count": 35,
   "id": "8ee64255",
   "metadata": {},
   "outputs": [],
   "source": [
    "dotenv.load_dotenv()\n",
    "\n",
    "# Embed the chunks\n",
    "embedding_dimensions = 1536\n",
    "client = OpenAI(api_key=os.getenv(\"OPENAI_API_KEY\"))\n",
    "vectors = []\n",
    "chunks_list = []\n",
    "\n",
    "for chunk in chunks:\n",
    "    out = client.embeddings.create(model=\"text-embedding-ada-002\", input=chunk)\n",
    "    vectors.append(out.data[0].embedding)\n",
    "    chunks_list.append(chunk)"
   ]
  },
  {
   "cell_type": "code",
   "execution_count": 36,
   "id": "2a8c4099",
   "metadata": {},
   "outputs": [],
   "source": [
    "vectors\n",
    "vectors = np.array(vectors).astype(\"float32\")"
   ]
  },
  {
   "cell_type": "code",
   "execution_count": 37,
   "id": "d5db986f",
   "metadata": {},
   "outputs": [],
   "source": [
    "index = faiss.IndexFlatL2(embedding_dimensions)\n",
    "index.add(vectors)"
   ]
  },
  {
   "cell_type": "code",
   "execution_count": 38,
   "id": "63b1a497",
   "metadata": {},
   "outputs": [
    {
     "name": "stdout",
     "output_type": "stream",
     "text": [
      "[[0.37584132 0.37627792 0.4921595 ]] [[0 2 6]]\n"
     ]
    }
   ],
   "source": [
    "# Prepare a query\n",
    "question = \"What work has been done by Vaibhav in Boltic Tables?\"\n",
    "\n",
    "question_vector = client.embeddings.create(model=\"text-embedding-ada-002\", input=question).data[0].embedding\n",
    "\n",
    "# D - disnces and I - indices\n",
    "D, I = index.search(np.array([question_vector], dtype=\"float32\"), k=3)\n",
    "\n",
    "print(D, I)"
   ]
  },
  {
   "cell_type": "code",
   "execution_count": null,
   "id": "8a348f49",
   "metadata": {},
   "outputs": [],
   "source": [
    "context = \"\\n\\n\".join(chunks_list[i] for i in I[0])\n",
    "\n",
    "print(context)\n",
    "\n",
    "\n",
    "# Construct prompt\n",
    "system = \"\"\"You are a helpful assistant. Answer only from context. If unsure, say 'I don't know from the docs.\"\"\"\n",
    "\n",
    "messages = [{\"role\": \"system\", \"content\": system},\n",
    "            {\"role\": \"user\", \"content\": f\"Context:\\n{context}\\n\\nQuestion:{question}\\nAnswer:\"}]\n",
    "\n",
    "response = client.chat.completions.create(model=\"gpt-3.5-turbo\", messages=messages, temperature=0.3)"
   ]
  },
  {
   "cell_type": "code",
   "execution_count": null,
   "id": "0f546a16",
   "metadata": {},
   "outputs": [],
   "source": [
    "print(response.choices[0].message.content)"
   ]
  }
 ],
 "metadata": {
  "kernelspec": {
   "display_name": "Python 3",
   "language": "python",
   "name": "python3"
  },
  "language_info": {
   "codemirror_mode": {
    "name": "ipython",
    "version": 3
   },
   "file_extension": ".py",
   "mimetype": "text/x-python",
   "name": "python",
   "nbconvert_exporter": "python",
   "pygments_lexer": "ipython3",
   "version": "3.10.14"
  }
 },
 "nbformat": 4,
 "nbformat_minor": 5
}
