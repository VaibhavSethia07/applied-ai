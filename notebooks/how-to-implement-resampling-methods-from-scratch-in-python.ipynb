{
 "cells": [
  {
   "cell_type": "markdown",
   "id": "fa9e017d",
   "metadata": {},
   "source": [
    "# Train and Test Split\n"
   ]
  },
  {
   "cell_type": "code",
   "execution_count": null,
   "id": "43c6efbc",
   "metadata": {},
   "outputs": [],
   "source": [
    "from random import randrange\n",
    "\n",
    "\n",
    "# split a dataset into train and test split\n",
    "def train_test_split(dataset, split=0.60):\n",
    "    train_size = len(dataset) * split\n",
    "    train = list()\n",
    "    dataset_copy = list(dataset)\n",
    "\n",
    "    while len(train) < train_size:\n",
    "        index = randrange(0, len(dataset_copy))\n",
    "        train.append(dataset_copy.pop(index))\n",
    "\n",
    "    return train, dataset_copy"
   ]
  },
  {
   "cell_type": "code",
   "execution_count": 2,
   "id": "1d3ed336",
   "metadata": {},
   "outputs": [
    {
     "name": "stdout",
     "output_type": "stream",
     "text": [
      "[[6], [3], [9], [8], [1], [2]]\n",
      "[[4], [5], [7], [10]]\n"
     ]
    }
   ],
   "source": [
    "# test train/test split\n",
    "from random import seed\n",
    "\n",
    "seed(7)\n",
    "\n",
    "dataset = [[1], [2], [3], [4], [5], [6], [7], [8], [9], [10]]\n",
    "train, test = train_test_split(dataset=dataset)\n",
    "print(train)\n",
    "print(test)"
   ]
  },
  {
   "cell_type": "markdown",
   "id": "531a7599",
   "metadata": {},
   "source": [
    "# k-fold Cross Validation\n"
   ]
  },
  {
   "cell_type": "code",
   "execution_count": 4,
   "id": "966c5d35",
   "metadata": {},
   "outputs": [],
   "source": [
    "\n",
    "from random import randrange\n",
    "\n",
    "\n",
    "def cross_validation_split(dataset, k):\n",
    "    dataset_copy = list(dataset)\n",
    "\n",
    "    folds = list()\n",
    "    fold_size = len(dataset) // k\n",
    "    for i in range(k):\n",
    "        fold = list()\n",
    "\n",
    "        while len(fold) < fold_size:\n",
    "            index = randrange(0, len(dataset_copy))\n",
    "            fold.append(dataset_copy.pop(index))\n",
    "\n",
    "        folds.append(fold)\n",
    "\n",
    "    return folds"
   ]
  },
  {
   "cell_type": "code",
   "execution_count": 5,
   "id": "a4871a91",
   "metadata": {},
   "outputs": [
    {
     "name": "stdout",
     "output_type": "stream",
     "text": [
      "[[[6], [3]], [[9], [8]], [[1], [2]], [[4], [7]]]\n"
     ]
    }
   ],
   "source": [
    "# test cross validation split\n",
    "from random import seed\n",
    "\n",
    "seed(7)\n",
    "\n",
    "dataset = [[1], [2], [3], [4], [5], [6], [7], [8], [9], [10]]\n",
    "folds = cross_validation_split(dataset=dataset, k=4)\n",
    "\n",
    "print(folds)"
   ]
  }
 ],
 "metadata": {
  "kernelspec": {
   "display_name": "Python 3",
   "language": "python",
   "name": "python3"
  },
  "language_info": {
   "codemirror_mode": {
    "name": "ipython",
    "version": 3
   },
   "file_extension": ".py",
   "mimetype": "text/x-python",
   "name": "python",
   "nbconvert_exporter": "python",
   "pygments_lexer": "ipython3",
   "version": "3.10.14"
  }
 },
 "nbformat": 4,
 "nbformat_minor": 5
}
